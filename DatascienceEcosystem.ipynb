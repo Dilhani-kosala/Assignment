{
 "cells": [
  {
   "cell_type": "markdown",
   "id": "8b7ab7c3",
   "metadata": {},
   "source": [
    "# Data Science Tools and Ecosystem"
   ]
  },
  {
   "cell_type": "markdown",
   "id": "a989fc79",
   "metadata": {},
   "source": [
    "### In this notebook, Data science Tools and Ecosystem are summarized."
   ]
  },
  {
   "cell_type": "markdown",
   "id": "72643d70",
   "metadata": {},
   "source": [
    "**Objectives:**\n",
    "* Describe Anaconda & its data science features.\n",
    "* Explain Jupyter architecture for conversion to a file format.\n",
    "* Describe Anaconda jupyter environments.\n",
    "* describe the basic jupyter architecture.\n"
   ]
  },
  {
   "cell_type": "markdown",
   "id": "5fc6ca97",
   "metadata": {},
   "source": [
    "### some of the popular languages that data scientists use are:\n",
    "1. Python\n",
    "2. R\n",
    "3. Ruby\n",
    "4. Scala\n",
    "5. Julia\n"
   ]
  },
  {
   "cell_type": "markdown",
   "id": "16d9568c",
   "metadata": {},
   "source": [
    "### Some of the commanly used libraries used by Data Scientists include:\n",
    "1. ggplot\n",
    "2. numpy\n",
    "3. mathplotlib\n",
    "4. scipy\n",
    "5. pandas"
   ]
  },
  {
   "cell_type": "markdown",
   "id": "692bcc79",
   "metadata": {},
   "source": [
    "| Data Science Tools |\n",
    "| ------------------ |\n",
    "| Jupyter nootebook |\n",
    "| RStudio |\n",
    "| Spyder |\n"
   ]
  },
  {
   "cell_type": "markdown",
   "id": "0da5cf82",
   "metadata": {},
   "source": [
    "### Below are a few examples of evaluating arithmetic expressions in Python.\n",
    "##### Addition\n",
    "add = 5 + 8  \n",
    "print (add)\n",
    "\n",
    "##### Subtraction\n",
    "sub = 10-2  \n",
    "print (sub)\n",
    "\n",
    "##### Multiplication\n",
    "mul = 4*6  \n",
    "print (mul)\n"
   ]
  },
  {
   "cell_type": "code",
   "execution_count": 1,
   "id": "fde6b572",
   "metadata": {},
   "outputs": [
    {
     "name": "stdout",
     "output_type": "stream",
     "text": [
      "17\n"
     ]
    }
   ],
   "source": [
    "# This a simple arithmetic expression to multiply then add integers.\n",
    "result = (3*4)+5\n",
    "print(result)"
   ]
  },
  {
   "cell_type": "code",
   "execution_count": 2,
   "id": "3e18ef9b",
   "metadata": {},
   "outputs": [
    {
     "name": "stdout",
     "output_type": "stream",
     "text": [
      "3.3333333333333335\n"
     ]
    }
   ],
   "source": [
    "# This will convert 200 minutes to hours by dividing by 60.\n",
    "minutes = 200\n",
    "hours = minutes / 60\n",
    "print (hours)"
   ]
  },
  {
   "cell_type": "markdown",
   "id": "9b5110e5",
   "metadata": {},
   "source": [
    "## Author  \n",
    "## K.A. Kosala Dilhani"
   ]
  },
  {
   "cell_type": "code",
   "execution_count": null,
   "id": "97e4c35b",
   "metadata": {},
   "outputs": [],
   "source": []
  }
 ],
 "metadata": {
  "kernelspec": {
   "display_name": "Python 3 (ipykernel)",
   "language": "python",
   "name": "python3"
  },
  "language_info": {
   "codemirror_mode": {
    "name": "ipython",
    "version": 3
   },
   "file_extension": ".py",
   "mimetype": "text/x-python",
   "name": "python",
   "nbconvert_exporter": "python",
   "pygments_lexer": "ipython3",
   "version": "3.11.5"
  }
 },
 "nbformat": 4,
 "nbformat_minor": 5
}
